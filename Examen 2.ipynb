{
  "nbformat": 4,
  "nbformat_minor": 0,
  "metadata": {
    "colab": {
      "provenance": [],
      "authorship_tag": "ABX9TyNG/2yU71AE178fkOCosaoc",
      "include_colab_link": true
    },
    "kernelspec": {
      "name": "python3",
      "display_name": "Python 3"
    },
    "language_info": {
      "name": "python"
    }
  },
  "cells": [
    {
      "cell_type": "markdown",
      "metadata": {
        "id": "view-in-github",
        "colab_type": "text"
      },
      "source": [
        "<a href=\"https://colab.research.google.com/github/FultonBsc/SIM_YAC_ORDONEZ_UPSE2023/blob/main/Examen%202.ipynb\" target=\"_parent\"><img src=\"https://colab.research.google.com/assets/colab-badge.svg\" alt=\"Open In Colab\"/></a>"
      ]
    },
    {
      "cell_type": "code",
      "execution_count": 1,
      "metadata": {
        "id": "zGj_p8sNitJG"
      },
      "outputs": [],
      "source": [
        "import numpy  as np\n",
        "import math"
      ]
    },
    {
      "cell_type": "code",
      "source": [
        "L=300000\n",
        "dx=15000\n",
        "Tiempo=100\n",
        "DT=1\n",
        "K=50 #Permeabilidad MD\n",
        "por=0.5\n",
        "vis=1 # centipoise\n",
        "Beta=0.7\n",
        "CompTotal=1.2*10**(-6) #ps1-1\n",
        "A=200000#ft^2"
      ],
      "metadata": {
        "id": "1iqbbNSOizRt"
      },
      "execution_count": 2,
      "outputs": []
    },
    {
      "cell_type": "code",
      "source": [
        "Alpha=K/(vis*por*CompTotal)\n",
        "Alpha\n",
        "Eta=(Alpha*DT)/(dx**2)\n",
        "Eta"
      ],
      "metadata": {
        "colab": {
          "base_uri": "https://localhost:8080/"
        },
        "id": "3IVbeIZRjXoX",
        "outputId": "16432201-0e98-4854-cd68-1161a4382243"
      },
      "execution_count": 3,
      "outputs": [
        {
          "output_type": "execute_result",
          "data": {
            "text/plain": [
              "0.3703703703703704"
            ]
          },
          "metadata": {},
          "execution_count": 3
        }
      ]
    },
    {
      "cell_type": "code",
      "source": [
        "Alpha"
      ],
      "metadata": {
        "colab": {
          "base_uri": "https://localhost:8080/"
        },
        "id": "XBQ4410gjbxw",
        "outputId": "a4419b56-835f-4329-d40b-6a1f9bbfe4a4"
      },
      "execution_count": 4,
      "outputs": [
        {
          "output_type": "execute_result",
          "data": {
            "text/plain": [
              "83333333.33333334"
            ]
          },
          "metadata": {},
          "execution_count": 4
        }
      ]
    },
    {
      "cell_type": "code",
      "source": [
        "#Condiciones iniciales\n",
        "Pyac=1\n",
        "Piz=0\n",
        "Pder=0\n",
        "Pin=np.ones((L//dx)+2)\n",
        "Qres=np.zeros((L//dx))\n",
        "Pres=np.zeros((L//dx)+2)\n",
        "Pin=Pin*Pyac\n",
        "Pin[0]=2*Piz-Pin[1]\n",
        "Pin[len(Pin)-1]=2*Pder-Pin[len(Pin)-2]\n",
        "\n",
        "Pin.shape"
      ],
      "metadata": {
        "colab": {
          "base_uri": "https://localhost:8080/"
        },
        "id": "y2REgZhwjfx9",
        "outputId": "db689871-b01e-4a45-c504-c66e7d1b06f8"
      },
      "execution_count": 11,
      "outputs": [
        {
          "output_type": "execute_result",
          "data": {
            "text/plain": [
              "(22,)"
            ]
          },
          "metadata": {},
          "execution_count": 11
        }
      ]
    },
    {
      "cell_type": "code",
      "source": [
        "#Esquema Implicito\n",
        "Pimplicita=np.zeros((Tiempo//DT,(L//dx)+2))\n",
        "Qimplicita=np.zeros((Tiempo//DT,(L//dx)))\n",
        "Pres=np.zeros((L//dx)+2)\n",
        "Pin=np.ones((L//dx)+2)\n",
        "Pin=Pin*Pyac\n",
        "Pin[0]=Piz\n",
        "Pin[len(Pin)-1]=Pder\n",
        "N=(L//dx)+2\n",
        "Baccumul=A*dx*por*CompTotal/Beta\n",
        "Transmisibilidad=(K*A/(vis*Beta*dx))*6.33*10**-3\n",
        "B=np.zeros([N-2,N-2])\n",
        "T=np.zeros([N-2,N-2])\n",
        "Transmisibilidad\n"
      ],
      "metadata": {
        "colab": {
          "base_uri": "https://localhost:8080/"
        },
        "id": "-7yql3kdkHCW",
        "outputId": "22e802f1-c6c8-4358-d809-8f69a8d4580c"
      },
      "execution_count": 13,
      "outputs": [
        {
          "output_type": "execute_result",
          "data": {
            "text/plain": [
              "6.0285714285714285"
            ]
          },
          "metadata": {},
          "execution_count": 13
        }
      ]
    },
    {
      "cell_type": "code",
      "source": [
        "for i in range(0,N-2):\n",
        "  B[i,i]=Baccumul\n",
        "\n",
        "\n",
        "for i in range(0,N-2):\n",
        "  T[i,i]=2*Transmisibilidad\n",
        "  if i>0:\n",
        "    T[i,i-1]=-Transmisibilidad\n",
        "  if i<(N-3):\n",
        "    T[i,i+1]=-Transmisibilidad\n",
        "#T[0,0]=3*Transmisibilidad\n",
        "T[0,0]=2*Transmisibilidad\n",
        "T[N-3,N-3]=2*Transmisibilidad\n",
        "\n",
        "T"
      ],
      "metadata": {
        "colab": {
          "base_uri": "https://localhost:8080/"
        },
        "id": "RTlfR-pekkEk",
        "outputId": "25ef6017-d445-4637-9b85-5a2d95b42edf"
      },
      "execution_count": 15,
      "outputs": [
        {
          "output_type": "execute_result",
          "data": {
            "text/plain": [
              "array([[12.05714286, -6.02857143,  0.        ,  0.        ,  0.        ,\n",
              "         0.        ,  0.        ,  0.        ,  0.        ,  0.        ,\n",
              "         0.        ,  0.        ,  0.        ,  0.        ,  0.        ,\n",
              "         0.        ,  0.        ,  0.        ,  0.        ,  0.        ],\n",
              "       [-6.02857143, 12.05714286, -6.02857143,  0.        ,  0.        ,\n",
              "         0.        ,  0.        ,  0.        ,  0.        ,  0.        ,\n",
              "         0.        ,  0.        ,  0.        ,  0.        ,  0.        ,\n",
              "         0.        ,  0.        ,  0.        ,  0.        ,  0.        ],\n",
              "       [ 0.        , -6.02857143, 12.05714286, -6.02857143,  0.        ,\n",
              "         0.        ,  0.        ,  0.        ,  0.        ,  0.        ,\n",
              "         0.        ,  0.        ,  0.        ,  0.        ,  0.        ,\n",
              "         0.        ,  0.        ,  0.        ,  0.        ,  0.        ],\n",
              "       [ 0.        ,  0.        , -6.02857143, 12.05714286, -6.02857143,\n",
              "         0.        ,  0.        ,  0.        ,  0.        ,  0.        ,\n",
              "         0.        ,  0.        ,  0.        ,  0.        ,  0.        ,\n",
              "         0.        ,  0.        ,  0.        ,  0.        ,  0.        ],\n",
              "       [ 0.        ,  0.        ,  0.        , -6.02857143, 12.05714286,\n",
              "        -6.02857143,  0.        ,  0.        ,  0.        ,  0.        ,\n",
              "         0.        ,  0.        ,  0.        ,  0.        ,  0.        ,\n",
              "         0.        ,  0.        ,  0.        ,  0.        ,  0.        ],\n",
              "       [ 0.        ,  0.        ,  0.        ,  0.        , -6.02857143,\n",
              "        12.05714286, -6.02857143,  0.        ,  0.        ,  0.        ,\n",
              "         0.        ,  0.        ,  0.        ,  0.        ,  0.        ,\n",
              "         0.        ,  0.        ,  0.        ,  0.        ,  0.        ],\n",
              "       [ 0.        ,  0.        ,  0.        ,  0.        ,  0.        ,\n",
              "        -6.02857143, 12.05714286, -6.02857143,  0.        ,  0.        ,\n",
              "         0.        ,  0.        ,  0.        ,  0.        ,  0.        ,\n",
              "         0.        ,  0.        ,  0.        ,  0.        ,  0.        ],\n",
              "       [ 0.        ,  0.        ,  0.        ,  0.        ,  0.        ,\n",
              "         0.        , -6.02857143, 12.05714286, -6.02857143,  0.        ,\n",
              "         0.        ,  0.        ,  0.        ,  0.        ,  0.        ,\n",
              "         0.        ,  0.        ,  0.        ,  0.        ,  0.        ],\n",
              "       [ 0.        ,  0.        ,  0.        ,  0.        ,  0.        ,\n",
              "         0.        ,  0.        , -6.02857143, 12.05714286, -6.02857143,\n",
              "         0.        ,  0.        ,  0.        ,  0.        ,  0.        ,\n",
              "         0.        ,  0.        ,  0.        ,  0.        ,  0.        ],\n",
              "       [ 0.        ,  0.        ,  0.        ,  0.        ,  0.        ,\n",
              "         0.        ,  0.        ,  0.        , -6.02857143, 12.05714286,\n",
              "        -6.02857143,  0.        ,  0.        ,  0.        ,  0.        ,\n",
              "         0.        ,  0.        ,  0.        ,  0.        ,  0.        ],\n",
              "       [ 0.        ,  0.        ,  0.        ,  0.        ,  0.        ,\n",
              "         0.        ,  0.        ,  0.        ,  0.        , -6.02857143,\n",
              "        12.05714286, -6.02857143,  0.        ,  0.        ,  0.        ,\n",
              "         0.        ,  0.        ,  0.        ,  0.        ,  0.        ],\n",
              "       [ 0.        ,  0.        ,  0.        ,  0.        ,  0.        ,\n",
              "         0.        ,  0.        ,  0.        ,  0.        ,  0.        ,\n",
              "        -6.02857143, 12.05714286, -6.02857143,  0.        ,  0.        ,\n",
              "         0.        ,  0.        ,  0.        ,  0.        ,  0.        ],\n",
              "       [ 0.        ,  0.        ,  0.        ,  0.        ,  0.        ,\n",
              "         0.        ,  0.        ,  0.        ,  0.        ,  0.        ,\n",
              "         0.        , -6.02857143, 12.05714286, -6.02857143,  0.        ,\n",
              "         0.        ,  0.        ,  0.        ,  0.        ,  0.        ],\n",
              "       [ 0.        ,  0.        ,  0.        ,  0.        ,  0.        ,\n",
              "         0.        ,  0.        ,  0.        ,  0.        ,  0.        ,\n",
              "         0.        ,  0.        , -6.02857143, 12.05714286, -6.02857143,\n",
              "         0.        ,  0.        ,  0.        ,  0.        ,  0.        ],\n",
              "       [ 0.        ,  0.        ,  0.        ,  0.        ,  0.        ,\n",
              "         0.        ,  0.        ,  0.        ,  0.        ,  0.        ,\n",
              "         0.        ,  0.        ,  0.        , -6.02857143, 12.05714286,\n",
              "        -6.02857143,  0.        ,  0.        ,  0.        ,  0.        ],\n",
              "       [ 0.        ,  0.        ,  0.        ,  0.        ,  0.        ,\n",
              "         0.        ,  0.        ,  0.        ,  0.        ,  0.        ,\n",
              "         0.        ,  0.        ,  0.        ,  0.        , -6.02857143,\n",
              "        12.05714286, -6.02857143,  0.        ,  0.        ,  0.        ],\n",
              "       [ 0.        ,  0.        ,  0.        ,  0.        ,  0.        ,\n",
              "         0.        ,  0.        ,  0.        ,  0.        ,  0.        ,\n",
              "         0.        ,  0.        ,  0.        ,  0.        ,  0.        ,\n",
              "        -6.02857143, 12.05714286, -6.02857143,  0.        ,  0.        ],\n",
              "       [ 0.        ,  0.        ,  0.        ,  0.        ,  0.        ,\n",
              "         0.        ,  0.        ,  0.        ,  0.        ,  0.        ,\n",
              "         0.        ,  0.        ,  0.        ,  0.        ,  0.        ,\n",
              "         0.        , -6.02857143, 12.05714286, -6.02857143,  0.        ],\n",
              "       [ 0.        ,  0.        ,  0.        ,  0.        ,  0.        ,\n",
              "         0.        ,  0.        ,  0.        ,  0.        ,  0.        ,\n",
              "         0.        ,  0.        ,  0.        ,  0.        ,  0.        ,\n",
              "         0.        ,  0.        , -6.02857143, 12.05714286, -6.02857143],\n",
              "       [ 0.        ,  0.        ,  0.        ,  0.        ,  0.        ,\n",
              "         0.        ,  0.        ,  0.        ,  0.        ,  0.        ,\n",
              "         0.        ,  0.        ,  0.        ,  0.        ,  0.        ,\n",
              "         0.        ,  0.        ,  0.        , -6.02857143, 12.05714286]])"
            ]
          },
          "metadata": {},
          "execution_count": 15
        }
      ]
    },
    {
      "cell_type": "code",
      "source": [
        "Matriz_resolucion=np.zeros_like(T)\n",
        "Vector_sol=np.zeros_like(Pin[1:-1])\n",
        "Matriz_resolucion=T+(B/DT)\n",
        "Vector_sol=np.matmul(B/DT,Pin[1:-1])\n",
        "#Pres=[]\n",
        "\n",
        "Q=np.zeros_like(Vector_sol)\n",
        "Q[0]=2*Transmisibilidad*Piz\n",
        "Vector_sol=Vector_sol+Q\n",
        "Vector_sol\n",
        "Transmisibilidad"
      ],
      "metadata": {
        "colab": {
          "base_uri": "https://localhost:8080/"
        },
        "id": "R3dk1iNclwPv",
        "outputId": "d88ebcd5-22ff-4f2b-d46c-897037b58a02"
      },
      "execution_count": 16,
      "outputs": [
        {
          "output_type": "execute_result",
          "data": {
            "text/plain": [
              "6.0285714285714285"
            ]
          },
          "metadata": {},
          "execution_count": 16
        }
      ]
    },
    {
      "cell_type": "code",
      "source": [
        "Pcal=np.linalg.solve(Matriz_resolucion,Vector_sol)"
      ],
      "metadata": {
        "id": "RcU99oDwl0Lz"
      },
      "execution_count": 17,
      "outputs": []
    },
    {
      "cell_type": "code",
      "source": [
        "Pcal"
      ],
      "metadata": {
        "colab": {
          "base_uri": "https://localhost:8080/"
        },
        "id": "omP63v4vl2Ww",
        "outputId": "8e3970a1-5051-40df-8898-187460c8caa7"
      },
      "execution_count": 18,
      "outputs": [
        {
          "output_type": "execute_result",
          "data": {
            "text/plain": [
              "array([0.99766648, 0.99999455, 0.99999999, 1.        , 1.        ,\n",
              "       1.        , 1.        , 1.        , 1.        , 1.        ,\n",
              "       1.        , 1.        , 1.        , 1.        , 1.        ,\n",
              "       1.        , 1.        , 0.99999999, 0.99999455, 0.99766648])"
            ]
          },
          "metadata": {},
          "execution_count": 18
        }
      ]
    },
    {
      "cell_type": "code",
      "source": [
        "Vector_sol"
      ],
      "metadata": {
        "colab": {
          "base_uri": "https://localhost:8080/"
        },
        "id": "gU1LQGjll4bl",
        "outputId": "7558c3e3-8496-4204-d56d-0a126d4a244d"
      },
      "execution_count": 19,
      "outputs": [
        {
          "output_type": "execute_result",
          "data": {
            "text/plain": [
              "array([2571.42857143, 2571.42857143, 2571.42857143, 2571.42857143,\n",
              "       2571.42857143, 2571.42857143, 2571.42857143, 2571.42857143,\n",
              "       2571.42857143, 2571.42857143, 2571.42857143, 2571.42857143,\n",
              "       2571.42857143, 2571.42857143, 2571.42857143, 2571.42857143,\n",
              "       2571.42857143, 2571.42857143, 2571.42857143, 2571.42857143])"
            ]
          },
          "metadata": {},
          "execution_count": 19
        }
      ]
    },
    {
      "cell_type": "code",
      "source": [
        "import matplotlib.pyplot as plt\n",
        "\n",
        "imgplot = plt.imshow(Qimplicita,aspect='auto')\n",
        "plt.colorbar()\n"
      ],
      "metadata": {
        "colab": {
          "base_uri": "https://localhost:8080/",
          "height": 452
        },
        "id": "5qNzx5HRl-Vq",
        "outputId": "89b977bc-e228-440a-b77c-f3a7b25d544b"
      },
      "execution_count": 21,
      "outputs": [
        {
          "output_type": "execute_result",
          "data": {
            "text/plain": [
              "<matplotlib.colorbar.Colorbar at 0x7f92f8b37340>"
            ]
          },
          "metadata": {},
          "execution_count": 21
        },
        {
          "output_type": "display_data",
          "data": {
            "text/plain": [
              "<Figure size 640x480 with 2 Axes>"
            ],
            "image/png": "[encoded data removed]"
          },
          "metadata": {}
        }
      ]
    },
    {
      "cell_type": "code",
      "source": [
        "Qimplicita.shape"
      ],
      "metadata": {
        "colab": {
          "base_uri": "https://localhost:8080/"
        },
        "id": "B9-FX5JAmCKb",
        "outputId": "0c3fe7e3-31bb-46da-883d-345d7927a73a"
      },
      "execution_count": 22,
      "outputs": [
        {
          "output_type": "execute_result",
          "data": {
            "text/plain": [
              "(100, 20)"
            ]
          },
          "metadata": {},
          "execution_count": 22
        }
      ]
    },
    {
      "cell_type": "code",
      "source": [
        "import matplotlib.pyplot as plt\n",
        "\n",
        "imgplot = plt.imshow(Pimplicita,aspect='auto')\n",
        "plt.colorbar()\n",
        ""
      ],
      "metadata": {
        "colab": {
          "base_uri": "https://localhost:8080/",
          "height": 452
        },
        "id": "8CGHz77HmE8c",
        "outputId": "00f3487a-ef71-40d1-97da-3deeb29f268f"
      },
      "execution_count": 23,
      "outputs": [
        {
          "output_type": "execute_result",
          "data": {
            "text/plain": [
              "<matplotlib.colorbar.Colorbar at 0x7f92f8906800>"
            ]
          },
          "metadata": {},
          "execution_count": 23
        },
        {
          "output_type": "display_data",
          "data": {
            "text/plain": [
              "<Figure size 640x480 with 2 Axes>"
            ],
            "image/png": "[encoded data removed]"
          },
          "metadata": {}
        }
      ]
    }
  ]
}