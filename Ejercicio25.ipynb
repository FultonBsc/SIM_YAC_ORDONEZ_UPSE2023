{
  "nbformat": 4,
  "nbformat_minor": 0,
  "metadata": {
    "colab": {
      "provenance": [],
      "authorship_tag": "ABX9TyPyIScFBiphTCYzBNjKknvU",
      "include_colab_link": true
    },
    "kernelspec": {
      "name": "python3",
      "display_name": "Python 3"
    },
    "language_info": {
      "name": "python"
    }
  },
  "cells": [
    {
      "cell_type": "markdown",
      "metadata": {
        "id": "view-in-github",
        "colab_type": "text"
      },
      "source": [
        "<a href=\"https://colab.research.google.com/github/FultonBsc/SIM_YAC_ORDONEZ_UPSE2023/blob/main/Ejercicio25.ipynb\" target=\"_parent\"><img src=\"https://colab.research.google.com/assets/colab-badge.svg\" alt=\"Open In Colab\"/></a>"
      ]
    },
    {
      "cell_type": "code",
      "execution_count": 16,
      "metadata": {
        "id": "N6GgNmLhbubV"
      },
      "outputs": [],
      "source": [
        "import numpy  as np\n",
        "import math"
      ]
    },
    {
      "cell_type": "code",
      "source": [
        "#Datos del yacimiento\n",
        "L=30000\n",
        "dx=15000\n",
        "Tiempo=100\n",
        "DT=1\n",
        "K=50 #Permeabilidad MD\n",
        "por=0.5\n",
        "vis=1 # centipoise\n",
        "B=0.7 #Factor volumetrico rb/stb\n",
        "CompTotal=1.2*10**(-6) #ps1-1\n",
        "A=200000#ft^2"
      ],
      "metadata": {
        "id": "CeSAWju0gpKb"
      },
      "execution_count": 17,
      "outputs": []
    },
    {
      "cell_type": "code",
      "source": [
        "Alpha=K/(vis*por*CompTotal)\n",
        "Alpha\n",
        "Eta=(Alpha*DT)/(dx**2)\n",
        "Eta"
      ],
      "metadata": {
        "colab": {
          "base_uri": "https://localhost:8080/"
        },
        "id": "AafOxDGVgsG3",
        "outputId": "76813e06-34e7-4f73-b17e-05d281bd69ac"
      },
      "execution_count": 18,
      "outputs": [
        {
          "output_type": "execute_result",
          "data": {
            "text/plain": [
              "0.3703703703703704"
            ]
          },
          "metadata": {},
          "execution_count": 18
        }
      ]
    },
    {
      "cell_type": "code",
      "source": [
        "Alpha"
      ],
      "metadata": {
        "colab": {
          "base_uri": "https://localhost:8080/"
        },
        "id": "D7b_-ziNguze",
        "outputId": "755de21f-82da-4b1e-d289-c60fbad79b5c"
      },
      "execution_count": 19,
      "outputs": [
        {
          "output_type": "execute_result",
          "data": {
            "text/plain": [
              "83333333.33333334"
            ]
          },
          "metadata": {},
          "execution_count": 19
        }
      ]
    },
    {
      "cell_type": "code",
      "source": [
        "#Crear matriz que guarda los valores del esquema Explicito\n",
        "Pimplicita=np.zeros((Tiempo//DT,(L//dx)+2))#Al colocar 2 veces el // se obtiene una division exacta\n",
        "Qimplicita=np.zeros((Tiempo//DT,(L//dx)))"
      ],
      "metadata": {
        "id": "S2goi9ZGgyho"
      },
      "execution_count": 20,
      "outputs": []
    },
    {
      "cell_type": "code",
      "source": [
        "#Condiciones iniciales\n",
        "P0=2000 #Presion en el nodo cero\n",
        "PB1=7000 #Presion en el borde 1\n",
        "P1=2*PB1-P0\n",
        "Piz=0 #Presion izquierda\n",
        "Pder=0 #Presion derecha\n",
        "N=((L//dx)+2)\n",
        "Pin=np.zeros(N) #Vector inicial creado  de 1 para poder ingresar la presion de yacimiento\n",
        "Pres=np.zeros(N) #Vector inicial vacio para colocar los resultados\n",
        "for i in range(0,len(Pin)-1): # se encarga de llenar los datos del espacio\n",
        "  Pin[i]=P1\n",
        "  Pin[0]=Piz\n",
        "  Pin[1]=P0\n",
        "  Pin[len(Pin)-1]=2*Pder-Pin[len(Pin)-2]\n",
        "Pin=Pin\n",
        "Pin"
      ],
      "metadata": {
        "colab": {
          "base_uri": "https://localhost:8080/"
        },
        "id": "HtaoDG4tg831",
        "outputId": "802e3186-fc3d-4475-d7af-853531b0335e"
      },
      "execution_count": 21,
      "outputs": [
        {
          "output_type": "execute_result",
          "data": {
            "text/plain": [
              "array([     0.,   2000.,  12000., -12000.])"
            ]
          },
          "metadata": {},
          "execution_count": 21
        }
      ]
    },
    {
      "cell_type": "code",
      "source": [
        "Baccumul=(A*dx*por*CompTotal)/B # volumen acumulado formula\n",
        "Transmisibilidad=(K*A/(vis*B*dx))*6.33*10**-3# formulta de la transmisibilidadad con factor de correccion por las diferentes unidades\n",
        "Bc=np.zeros([N-2,N-2])#vector en cero de el volumen acumulado donde se ingresan los valores de acuerdo a las condiciones\n",
        "Tr=np.zeros([N-2,N-2])#vector en cero de el volumen acumulado donde se ingresan los valores de transmisiblidad de acuerdo a las condiciones\n",
        "Bc"
      ],
      "metadata": {
        "colab": {
          "base_uri": "https://localhost:8080/"
        },
        "id": "UAEflEHWg_2q",
        "outputId": "b62acb9b-3a72-45be-a8d7-666017faa6c8"
      },
      "execution_count": 22,
      "outputs": [
        {
          "output_type": "execute_result",
          "data": {
            "text/plain": [
              "array([[0., 0.],\n",
              "       [0., 0.]])"
            ]
          },
          "metadata": {},
          "execution_count": 22
        }
      ]
    },
    {
      "cell_type": "code",
      "source": [
        "#Caracteristicas de la matriz de Volumen acumulado\n",
        "for i in range(0,N-2):\n",
        "  Bc[i,i]= Baccumul#Solo cuando i=i va a tener el mismo valor que el volumenacumulado\n",
        " #Caracteristicas de la matriz de la transmisibilidad\n",
        "for i in range(0,N-2):\n",
        "  Tr[i,i]=2*Transmisibilidad#Solo cuando i=i va a tener el valor del doble de transmisibilidad\n",
        "  if i>0: #siempre y cuando i se encuentre en la posicion mayor a 0\n",
        "    Tr[i,i-1]=-Transmisibilidad#Los valores de la derecha cuando i=i van a ser la transmisibilidad negativa\n",
        "  if i<(N-3): #siempre y cuando i se encuentre en la posicion mayor a N-3\n",
        "    Tr[i,i+1]=-Transmisibilidad  #Los valores de la izquierda cuando i=i van a ser la transmisibilidad negativa\n",
        "Tr[0,0]=3*Transmisibilidad # Cuando se encuentren en la posicion 0,0 va a vales tres veces la transmisibilidad\n",
        "Tr[N-3,N-3]=Transmisibilidad# Cuando se encuentren en la posicion N-3,N-3 va a ser igual a la transmisibilidad\n",
        "Tr"
      ],
      "metadata": {
        "colab": {
          "base_uri": "https://localhost:8080/"
        },
        "id": "rBkSlxQ6hHzD",
        "outputId": "7ab1a47c-613f-4c89-95d9-7aeb50273725"
      },
      "execution_count": 23,
      "outputs": [
        {
          "output_type": "execute_result",
          "data": {
            "text/plain": [
              "array([[18.08571429, -6.02857143],\n",
              "       [-6.02857143,  6.02857143]])"
            ]
          },
          "metadata": {},
          "execution_count": 23
        }
      ]
    },
    {
      "cell_type": "code",
      "source": [
        "#Respecto a la presion\n",
        "Matriz_resolucion=np.zeros_like(Tr) # se crea matriz del tamaño del T\n",
        "Vector_sol=np.zeros_like(Pin[1:-1])# Se indica donde empieza y hasta donde termina la matriz en ceros\n",
        "Matriz_resolucion=Tr+(Bc/DT) #Aplicacion de una parte de la ecuacion del esquema implicito\n",
        "Vector_sol=np.matmul(Bc/DT,Pin[1:-1])#Calcula las matrices, multiplica la matriz  B/DT con Pin[1:-1]\n",
        "#Pres=[]\n",
        "#Respecto al caudal\n",
        "Q=np.zeros_like(Vector_sol)# se crea matriz del tamaño del Vector_sol\n",
        "Q[0]=2*Transmisibilidad*Piz# se coloca la condicion cuando Q se encuentre en el nodo cero\n",
        "Vector_sol=Vector_sol+Q"
      ],
      "metadata": {
        "id": "k0kWyrXehIVI"
      },
      "execution_count": 24,
      "outputs": []
    },
    {
      "cell_type": "code",
      "source": [
        "Pcal=np.linalg.solve(Matriz_resolucion,Vector_sol)#como es un sistema de ecuaciones lineales se resuelve por linalg"
      ],
      "metadata": {
        "id": "QfFjSZ1EhLKX"
      },
      "execution_count": 25,
      "outputs": []
    },
    {
      "cell_type": "code",
      "source": [
        "Pcal"
      ],
      "metadata": {
        "colab": {
          "base_uri": "https://localhost:8080/"
        },
        "id": "y_mJtui-hQQn",
        "outputId": "d87aced2-4b32-453e-a3c1-3165561841f8"
      },
      "execution_count": 26,
      "outputs": [
        {
          "output_type": "execute_result",
          "data": {
            "text/plain": [
              "array([ 2013.91404521, 11976.6429356 ])"
            ]
          },
          "metadata": {},
          "execution_count": 26
        }
      ]
    },
    {
      "cell_type": "code",
      "source": [
        "Qimplicita[0]=Q\n",
        "t=DT\n",
        "while t<Tiempo:\n",
        "  Pcal=np.linalg.solve(Matriz_resolucion,Vector_sol)\n",
        "  Pres=np.concatenate(([Piz],Pcal,[Pder]))\n",
        "  Pimplicita[t//DT]=Pres\n",
        "  Vector_sol=np.matmul(Bc/DT,Pcal)+Q\n",
        "  Qimplicita[t//DT]=Vector_sol\n",
        "  t=t+DT"
      ],
      "metadata": {
        "id": "ay5M08tShSSe"
      },
      "execution_count": 27,
      "outputs": []
    },
    {
      "cell_type": "code",
      "source": [
        "import matplotlib.pyplot as plt\n",
        "\n",
        "imgplot = plt.imshow(Qimplicita,aspect='auto')\n",
        "plt.colorbar()\n"
      ],
      "metadata": {
        "colab": {
          "base_uri": "https://localhost:8080/",
          "height": 462
        },
        "id": "HP8civhph_-z",
        "outputId": "75fe34ab-096a-47ac-b945-8e3c71d975bd"
      },
      "execution_count": 28,
      "outputs": [
        {
          "output_type": "execute_result",
          "data": {
            "text/plain": [
              "<matplotlib.colorbar.Colorbar at 0x7f51a427e830>"
            ]
          },
          "metadata": {},
          "execution_count": 28
        },
        {
          "output_type": "display_data",
          "data": {
            "text/plain": [
              "<Figure size 640x480 with 2 Axes>"
            ],
            "image/png": "[encoded data removed]"
          },
          "metadata": {}
        }
      ]
    },
    {
      "cell_type": "code",
      "source": [
        "import matplotlib.pyplot as plt\n",
        "imgplot = plt.imshow(Pimplicita,aspect='auto')\n",
        "plt.colorbar()\n"
      ],
      "metadata": {
        "colab": {
          "base_uri": "https://localhost:8080/",
          "height": 450
        },
        "id": "n1J7o1VWiB0L",
        "outputId": "579ca38d-e84f-49e2-e63a-cd9a665a26d8"
      },
      "execution_count": 29,
      "outputs": [
        {
          "output_type": "execute_result",
          "data": {
            "text/plain": [
              "<matplotlib.colorbar.Colorbar at 0x7f51a4333190>"
            ]
          },
          "metadata": {},
          "execution_count": 29
        },
        {
          "output_type": "display_data",
          "data": {
            "text/plain": [
              "<Figure size 640x480 with 2 Axes>"
            ],
            "image/png": "[encoded data removed]"
          },
          "metadata": {}
        }
      ]
    }
  ]
}